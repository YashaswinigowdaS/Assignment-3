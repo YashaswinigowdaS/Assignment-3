{
 "cells": [
  {
   "cell_type": "markdown",
   "id": "c4ffc2dc",
   "metadata": {},
   "source": [
    "# Write a Python function to sum all the numbers in a list."
   ]
  },
  {
   "cell_type": "code",
   "execution_count": 2,
   "id": "47f837b0",
   "metadata": {},
   "outputs": [
    {
     "name": "stdout",
     "output_type": "stream",
     "text": [
      "sum of all the elements in given: 20\n"
     ]
    }
   ],
   "source": [
    "X=(8,2,0,3,7)\n",
    "Y=0\n",
    "\n",
    "for i in range(0,len(X)):\n",
    "    Y=Y+X[i]\n",
    "    \n",
    "print(\"sum of all the elements in given:\",Y)"
   ]
  },
  {
   "cell_type": "code",
   "execution_count": null,
   "id": "bc2c649b",
   "metadata": {},
   "outputs": [],
   "source": []
  }
 ],
 "metadata": {
  "kernelspec": {
   "display_name": "Python 3 (ipykernel)",
   "language": "python",
   "name": "python3"
  },
  "language_info": {
   "codemirror_mode": {
    "name": "ipython",
    "version": 3
   },
   "file_extension": ".py",
   "mimetype": "text/x-python",
   "name": "python",
   "nbconvert_exporter": "python",
   "pygments_lexer": "ipython3",
   "version": "3.11.0"
  }
 },
 "nbformat": 4,
 "nbformat_minor": 5
}
